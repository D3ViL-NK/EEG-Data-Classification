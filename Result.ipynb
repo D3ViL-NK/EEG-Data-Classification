{
 "cells": [
  {
   "cell_type": "markdown",
   "metadata": {},
   "source": [
    "# EEG DATA ML (TITLE)"
   ]
  },
  {
   "cell_type": "markdown",
   "metadata": {},
   "source": [
    "## Visualzing Data"
   ]
  },
  {
   "cell_type": "markdown",
   "metadata": {},
   "source": [
    "### 1. Importing packages"
   ]
  },
  {
   "cell_type": "code",
   "execution_count": 2,
   "metadata": {},
   "outputs": [],
   "source": [
    "import pandas as pd\n",
    "import os\n",
    "import numpy as np\n",
    "import matplotlib.pyplot as plt"
   ]
  },
  {
   "cell_type": "markdown",
   "metadata": {},
   "source": [
    "### 2. Reading file names"
   ]
  },
  {
   "cell_type": "code",
   "execution_count": 4,
   "metadata": {},
   "outputs": [],
   "source": [
    "test_filenames = os.listdir('Data\\SMNI_CMI_TEST\\Test')\n",
    "train_filenames= os.listdir('Data\\SMNI_CMI_TRAIN\\Train')"
   ]
  },
  {
   "cell_type": "markdown",
   "metadata": {},
   "source": [
    "### 3. Loading a file"
   ]
  },
  {
   "cell_type": "code",
   "execution_count": 5,
   "metadata": {},
   "outputs": [
    {
     "data": {
      "text/html": [
       "<div>\n",
       "<style scoped>\n",
       "    .dataframe tbody tr th:only-of-type {\n",
       "        vertical-align: middle;\n",
       "    }\n",
       "\n",
       "    .dataframe tbody tr th {\n",
       "        vertical-align: top;\n",
       "    }\n",
       "\n",
       "    .dataframe thead th {\n",
       "        text-align: right;\n",
       "    }\n",
       "</style>\n",
       "<table border=\"1\" class=\"dataframe\">\n",
       "  <thead>\n",
       "    <tr style=\"text-align: right;\">\n",
       "      <th></th>\n",
       "      <th>Unnamed: 0</th>\n",
       "      <th>trial number</th>\n",
       "      <th>sensor position</th>\n",
       "      <th>sample num</th>\n",
       "      <th>sensor value</th>\n",
       "      <th>subject identifier</th>\n",
       "      <th>matching condition</th>\n",
       "      <th>channel</th>\n",
       "      <th>name</th>\n",
       "      <th>time</th>\n",
       "    </tr>\n",
       "  </thead>\n",
       "  <tbody>\n",
       "    <tr>\n",
       "      <th>0</th>\n",
       "      <td>5</td>\n",
       "      <td>0</td>\n",
       "      <td>FP1</td>\n",
       "      <td>0</td>\n",
       "      <td>-8.921</td>\n",
       "      <td>a</td>\n",
       "      <td>S1 obj</td>\n",
       "      <td>0</td>\n",
       "      <td>co2a0000364</td>\n",
       "      <td>0.000000</td>\n",
       "    </tr>\n",
       "    <tr>\n",
       "      <th>1</th>\n",
       "      <td>6</td>\n",
       "      <td>0</td>\n",
       "      <td>FP1</td>\n",
       "      <td>1</td>\n",
       "      <td>-8.433</td>\n",
       "      <td>a</td>\n",
       "      <td>S1 obj</td>\n",
       "      <td>0</td>\n",
       "      <td>co2a0000364</td>\n",
       "      <td>0.003906</td>\n",
       "    </tr>\n",
       "    <tr>\n",
       "      <th>2</th>\n",
       "      <td>7</td>\n",
       "      <td>0</td>\n",
       "      <td>FP1</td>\n",
       "      <td>2</td>\n",
       "      <td>-2.574</td>\n",
       "      <td>a</td>\n",
       "      <td>S1 obj</td>\n",
       "      <td>0</td>\n",
       "      <td>co2a0000364</td>\n",
       "      <td>0.007812</td>\n",
       "    </tr>\n",
       "    <tr>\n",
       "      <th>3</th>\n",
       "      <td>8</td>\n",
       "      <td>0</td>\n",
       "      <td>FP1</td>\n",
       "      <td>3</td>\n",
       "      <td>5.239</td>\n",
       "      <td>a</td>\n",
       "      <td>S1 obj</td>\n",
       "      <td>0</td>\n",
       "      <td>co2a0000364</td>\n",
       "      <td>0.011719</td>\n",
       "    </tr>\n",
       "    <tr>\n",
       "      <th>4</th>\n",
       "      <td>9</td>\n",
       "      <td>0</td>\n",
       "      <td>FP1</td>\n",
       "      <td>4</td>\n",
       "      <td>11.587</td>\n",
       "      <td>a</td>\n",
       "      <td>S1 obj</td>\n",
       "      <td>0</td>\n",
       "      <td>co2a0000364</td>\n",
       "      <td>0.015625</td>\n",
       "    </tr>\n",
       "  </tbody>\n",
       "</table>\n",
       "</div>"
      ],
      "text/plain": [
       "   Unnamed: 0  trial number sensor position  sample num  sensor value  \\\n",
       "0           5             0             FP1           0        -8.921   \n",
       "1           6             0             FP1           1        -8.433   \n",
       "2           7             0             FP1           2        -2.574   \n",
       "3           8             0             FP1           3         5.239   \n",
       "4           9             0             FP1           4        11.587   \n",
       "\n",
       "  subject identifier matching condition  channel         name      time  \n",
       "0                  a             S1 obj        0  co2a0000364  0.000000  \n",
       "1                  a             S1 obj        0  co2a0000364  0.003906  \n",
       "2                  a             S1 obj        0  co2a0000364  0.007812  \n",
       "3                  a             S1 obj        0  co2a0000364  0.011719  \n",
       "4                  a             S1 obj        0  co2a0000364  0.015625  "
      ]
     },
     "execution_count": 5,
     "metadata": {},
     "output_type": "execute_result"
    }
   ],
   "source": [
    "filename = 'Data/SMNI_CMI_TRAIN/Train/'+ train_filenames[0]\n",
    "df = pd.read_csv(filename)\n",
    "df.head()"
   ]
  },
  {
   "cell_type": "markdown",
   "metadata": {},
   "source": [
    "### 4. Identifying Labels and Features"
   ]
  },
  {
   "cell_type": "code",
   "execution_count": 6,
   "metadata": {},
   "outputs": [
    {
     "name": "stdout",
     "output_type": "stream",
     "text": [
      "Labels:  subject identifier\n",
      "Features:  sensor value\n"
     ]
    }
   ],
   "source": [
    "labels = 'subject identifier'\n",
    "features = 'sensor value'\n",
    "print('Labels: ',labels)\n",
    "print('Features: ',features)"
   ]
  },
  {
   "cell_type": "code",
   "execution_count": 10,
   "metadata": {},
   "outputs": [
    {
     "data": {
      "text/plain": [
       "(0        -8.921\n",
       " 1        -8.433\n",
       " 2        -2.574\n",
       " 3         5.239\n",
       " 4        11.587\n",
       "           ...  \n",
       " 16379     6.571\n",
       " 16380    12.431\n",
       " 16381    15.849\n",
       " 16382    16.337\n",
       " 16383    14.872\n",
       " Name: sensor value, Length: 16384, dtype: float64,\n",
       " 'a')"
      ]
     },
     "execution_count": 10,
     "metadata": {},
     "output_type": "execute_result"
    }
   ],
   "source": [
    "X = df[features]\n",
    "y = df[labels]\n",
    "X,y[0]"
   ]
  },
  {
   "cell_type": "markdown",
   "metadata": {},
   "source": [
    "### There are 256 time sequences with 64 channels"
   ]
  }
 ],
 "metadata": {
  "kernelspec": {
   "display_name": "Python 3",
   "language": "python",
   "name": "python3"
  },
  "language_info": {
   "codemirror_mode": {
    "name": "ipython",
    "version": 3
   },
   "file_extension": ".py",
   "mimetype": "text/x-python",
   "name": "python",
   "nbconvert_exporter": "python",
   "pygments_lexer": "ipython3",
   "version": "3.7.7"
  }
 },
 "nbformat": 4,
 "nbformat_minor": 4
}
